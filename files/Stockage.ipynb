{
 "cells": [
  {
   "cell_type": "markdown",
   "id": "e335f225",
   "metadata": {},
   "source": [
    "# Stockage des Données dans un Dataset_ouhayou"
   ]
  },
  {
   "cell_type": "code",
   "execution_count": 1,
   "id": "016fc9b3",
   "metadata": {},
   "outputs": [
    {
     "ename": "FileNotFoundError",
     "evalue": "[Errno 2] No such file or directory: '/opt/airflow/dags/scripts/dataset/Weather_Data.csv'",
     "output_type": "error",
     "traceback": [
      "\u001b[1;31m---------------------------------------------------------------------------\u001b[0m",
      "\u001b[1;31mFileNotFoundError\u001b[0m                         Traceback (most recent call last)",
      "Cell \u001b[1;32mIn[1], line 10\u001b[0m\n\u001b[0;32m      7\u001b[0m api_key \u001b[38;5;241m=\u001b[39m \u001b[38;5;124m'\u001b[39m\u001b[38;5;124m2a258b2fa442fb8d6f8be3014c88c57a\u001b[39m\u001b[38;5;124m'\u001b[39m\n\u001b[0;32m      8\u001b[0m endpoint \u001b[38;5;241m=\u001b[39m \u001b[38;5;124m'\u001b[39m\u001b[38;5;124mhttps://api.openweathermap.org/data/2.5/forecast\u001b[39m\u001b[38;5;124m'\u001b[39m\n\u001b[1;32m---> 10\u001b[0m existing_data \u001b[38;5;241m=\u001b[39m pd\u001b[38;5;241m.\u001b[39mread_csv(\u001b[38;5;124m'\u001b[39m\u001b[38;5;124m/opt/airflow/dags/scripts/dataset/Weather_Data.csv\u001b[39m\u001b[38;5;124m'\u001b[39m)\n\u001b[0;32m     11\u001b[0m existing_data[\u001b[38;5;124m'\u001b[39m\u001b[38;5;124mDate\u001b[39m\u001b[38;5;124m'\u001b[39m] \u001b[38;5;241m=\u001b[39m pd\u001b[38;5;241m.\u001b[39mto_datetime(existing_data[\u001b[38;5;124m'\u001b[39m\u001b[38;5;124mDate\u001b[39m\u001b[38;5;124m'\u001b[39m], errors\u001b[38;5;241m=\u001b[39m\u001b[38;5;124m'\u001b[39m\u001b[38;5;124mcoerce\u001b[39m\u001b[38;5;124m'\u001b[39m)\n\u001b[0;32m     13\u001b[0m cities \u001b[38;5;241m=\u001b[39m [\n\u001b[0;32m     14\u001b[0m         \u001b[38;5;124m\"\u001b[39m\u001b[38;5;124mTokyo\u001b[39m\u001b[38;5;124m\"\u001b[39m, \u001b[38;5;124m\"\u001b[39m\u001b[38;5;124mMexico\u001b[39m\u001b[38;5;124m\"\u001b[39m, \u001b[38;5;124m\"\u001b[39m\u001b[38;5;124mSéoul\u001b[39m\u001b[38;5;124m\"\u001b[39m, \u001b[38;5;124m\"\u001b[39m\u001b[38;5;124mJakarta\u001b[39m\u001b[38;5;124m\"\u001b[39m, \u001b[38;5;124m\"\u001b[39m\u001b[38;5;124mNew Delhi\u001b[39m\u001b[38;5;124m\"\u001b[39m, \u001b[38;5;124m\"\u001b[39m\u001b[38;5;124mLe Caire\u001b[39m\u001b[38;5;124m\"\u001b[39m, \u001b[38;5;124m\"\u001b[39m\u001b[38;5;124mMoscou\u001b[39m\u001b[38;5;124m\"\u001b[39m, \u001b[38;5;124m\"\u001b[39m\u001b[38;5;124mBuenos Aires\u001b[39m\u001b[38;5;124m\"\u001b[39m,\n\u001b[0;32m     15\u001b[0m         \u001b[38;5;124m\"\u001b[39m\u001b[38;5;124mManille\u001b[39m\u001b[38;5;124m\"\u001b[39m, \u001b[38;5;124m\"\u001b[39m\u001b[38;5;124mLondres\u001b[39m\u001b[38;5;124m\"\u001b[39m, \u001b[38;5;124m\"\u001b[39m\u001b[38;5;124mDhâkâ\u001b[39m\u001b[38;5;124m\"\u001b[39m, \u001b[38;5;124m\"\u001b[39m\u001b[38;5;124mParis\u001b[39m\u001b[38;5;124m\"\u001b[39m, \u001b[38;5;124m\"\u001b[39m\u001b[38;5;124mPékin\u001b[39m\u001b[38;5;124m\"\u001b[39m, \u001b[38;5;124m\"\u001b[39m\u001b[38;5;124mBangkok\u001b[39m\u001b[38;5;124m\"\u001b[39m, \u001b[38;5;124m\"\u001b[39m\u001b[38;5;124mLima\u001b[39m\u001b[38;5;124m\"\u001b[39m, \u001b[38;5;124m\"\u001b[39m\u001b[38;5;124mBogotá\u001b[39m\u001b[38;5;124m\"\u001b[39m, \u001b[38;5;124m\"\u001b[39m\u001b[38;5;124mTéhéran\u001b[39m\u001b[38;5;124m\"\u001b[39m,\n\u001b[1;32m   (...)\u001b[0m\n\u001b[0;32m     41\u001b[0m         \u001b[38;5;124m\"\u001b[39m\u001b[38;5;124mCité du Vatican\u001b[39m\u001b[38;5;124m\"\u001b[39m, \u001b[38;5;124m\"\u001b[39m\u001b[38;5;124mMelekeok\u001b[39m\u001b[38;5;124m\"\u001b[39m\n\u001b[0;32m     42\u001b[0m     ]\n",
      "File \u001b[1;32mC:\\ProgramData\\anaconda3\\Lib\\site-packages\\pandas\\io\\parsers\\readers.py:912\u001b[0m, in \u001b[0;36mread_csv\u001b[1;34m(filepath_or_buffer, sep, delimiter, header, names, index_col, usecols, dtype, engine, converters, true_values, false_values, skipinitialspace, skiprows, skipfooter, nrows, na_values, keep_default_na, na_filter, verbose, skip_blank_lines, parse_dates, infer_datetime_format, keep_date_col, date_parser, date_format, dayfirst, cache_dates, iterator, chunksize, compression, thousands, decimal, lineterminator, quotechar, quoting, doublequote, escapechar, comment, encoding, encoding_errors, dialect, on_bad_lines, delim_whitespace, low_memory, memory_map, float_precision, storage_options, dtype_backend)\u001b[0m\n\u001b[0;32m    899\u001b[0m kwds_defaults \u001b[38;5;241m=\u001b[39m _refine_defaults_read(\n\u001b[0;32m    900\u001b[0m     dialect,\n\u001b[0;32m    901\u001b[0m     delimiter,\n\u001b[1;32m   (...)\u001b[0m\n\u001b[0;32m    908\u001b[0m     dtype_backend\u001b[38;5;241m=\u001b[39mdtype_backend,\n\u001b[0;32m    909\u001b[0m )\n\u001b[0;32m    910\u001b[0m kwds\u001b[38;5;241m.\u001b[39mupdate(kwds_defaults)\n\u001b[1;32m--> 912\u001b[0m \u001b[38;5;28;01mreturn\u001b[39;00m _read(filepath_or_buffer, kwds)\n",
      "File \u001b[1;32mC:\\ProgramData\\anaconda3\\Lib\\site-packages\\pandas\\io\\parsers\\readers.py:577\u001b[0m, in \u001b[0;36m_read\u001b[1;34m(filepath_or_buffer, kwds)\u001b[0m\n\u001b[0;32m    574\u001b[0m _validate_names(kwds\u001b[38;5;241m.\u001b[39mget(\u001b[38;5;124m\"\u001b[39m\u001b[38;5;124mnames\u001b[39m\u001b[38;5;124m\"\u001b[39m, \u001b[38;5;28;01mNone\u001b[39;00m))\n\u001b[0;32m    576\u001b[0m \u001b[38;5;66;03m# Create the parser.\u001b[39;00m\n\u001b[1;32m--> 577\u001b[0m parser \u001b[38;5;241m=\u001b[39m TextFileReader(filepath_or_buffer, \u001b[38;5;241m*\u001b[39m\u001b[38;5;241m*\u001b[39mkwds)\n\u001b[0;32m    579\u001b[0m \u001b[38;5;28;01mif\u001b[39;00m chunksize \u001b[38;5;129;01mor\u001b[39;00m iterator:\n\u001b[0;32m    580\u001b[0m     \u001b[38;5;28;01mreturn\u001b[39;00m parser\n",
      "File \u001b[1;32mC:\\ProgramData\\anaconda3\\Lib\\site-packages\\pandas\\io\\parsers\\readers.py:1407\u001b[0m, in \u001b[0;36mTextFileReader.__init__\u001b[1;34m(self, f, engine, **kwds)\u001b[0m\n\u001b[0;32m   1404\u001b[0m     \u001b[38;5;28mself\u001b[39m\u001b[38;5;241m.\u001b[39moptions[\u001b[38;5;124m\"\u001b[39m\u001b[38;5;124mhas_index_names\u001b[39m\u001b[38;5;124m\"\u001b[39m] \u001b[38;5;241m=\u001b[39m kwds[\u001b[38;5;124m\"\u001b[39m\u001b[38;5;124mhas_index_names\u001b[39m\u001b[38;5;124m\"\u001b[39m]\n\u001b[0;32m   1406\u001b[0m \u001b[38;5;28mself\u001b[39m\u001b[38;5;241m.\u001b[39mhandles: IOHandles \u001b[38;5;241m|\u001b[39m \u001b[38;5;28;01mNone\u001b[39;00m \u001b[38;5;241m=\u001b[39m \u001b[38;5;28;01mNone\u001b[39;00m\n\u001b[1;32m-> 1407\u001b[0m \u001b[38;5;28mself\u001b[39m\u001b[38;5;241m.\u001b[39m_engine \u001b[38;5;241m=\u001b[39m \u001b[38;5;28mself\u001b[39m\u001b[38;5;241m.\u001b[39m_make_engine(f, \u001b[38;5;28mself\u001b[39m\u001b[38;5;241m.\u001b[39mengine)\n",
      "File \u001b[1;32mC:\\ProgramData\\anaconda3\\Lib\\site-packages\\pandas\\io\\parsers\\readers.py:1661\u001b[0m, in \u001b[0;36mTextFileReader._make_engine\u001b[1;34m(self, f, engine)\u001b[0m\n\u001b[0;32m   1659\u001b[0m     \u001b[38;5;28;01mif\u001b[39;00m \u001b[38;5;124m\"\u001b[39m\u001b[38;5;124mb\u001b[39m\u001b[38;5;124m\"\u001b[39m \u001b[38;5;129;01mnot\u001b[39;00m \u001b[38;5;129;01min\u001b[39;00m mode:\n\u001b[0;32m   1660\u001b[0m         mode \u001b[38;5;241m+\u001b[39m\u001b[38;5;241m=\u001b[39m \u001b[38;5;124m\"\u001b[39m\u001b[38;5;124mb\u001b[39m\u001b[38;5;124m\"\u001b[39m\n\u001b[1;32m-> 1661\u001b[0m \u001b[38;5;28mself\u001b[39m\u001b[38;5;241m.\u001b[39mhandles \u001b[38;5;241m=\u001b[39m get_handle(\n\u001b[0;32m   1662\u001b[0m     f,\n\u001b[0;32m   1663\u001b[0m     mode,\n\u001b[0;32m   1664\u001b[0m     encoding\u001b[38;5;241m=\u001b[39m\u001b[38;5;28mself\u001b[39m\u001b[38;5;241m.\u001b[39moptions\u001b[38;5;241m.\u001b[39mget(\u001b[38;5;124m\"\u001b[39m\u001b[38;5;124mencoding\u001b[39m\u001b[38;5;124m\"\u001b[39m, \u001b[38;5;28;01mNone\u001b[39;00m),\n\u001b[0;32m   1665\u001b[0m     compression\u001b[38;5;241m=\u001b[39m\u001b[38;5;28mself\u001b[39m\u001b[38;5;241m.\u001b[39moptions\u001b[38;5;241m.\u001b[39mget(\u001b[38;5;124m\"\u001b[39m\u001b[38;5;124mcompression\u001b[39m\u001b[38;5;124m\"\u001b[39m, \u001b[38;5;28;01mNone\u001b[39;00m),\n\u001b[0;32m   1666\u001b[0m     memory_map\u001b[38;5;241m=\u001b[39m\u001b[38;5;28mself\u001b[39m\u001b[38;5;241m.\u001b[39moptions\u001b[38;5;241m.\u001b[39mget(\u001b[38;5;124m\"\u001b[39m\u001b[38;5;124mmemory_map\u001b[39m\u001b[38;5;124m\"\u001b[39m, \u001b[38;5;28;01mFalse\u001b[39;00m),\n\u001b[0;32m   1667\u001b[0m     is_text\u001b[38;5;241m=\u001b[39mis_text,\n\u001b[0;32m   1668\u001b[0m     errors\u001b[38;5;241m=\u001b[39m\u001b[38;5;28mself\u001b[39m\u001b[38;5;241m.\u001b[39moptions\u001b[38;5;241m.\u001b[39mget(\u001b[38;5;124m\"\u001b[39m\u001b[38;5;124mencoding_errors\u001b[39m\u001b[38;5;124m\"\u001b[39m, \u001b[38;5;124m\"\u001b[39m\u001b[38;5;124mstrict\u001b[39m\u001b[38;5;124m\"\u001b[39m),\n\u001b[0;32m   1669\u001b[0m     storage_options\u001b[38;5;241m=\u001b[39m\u001b[38;5;28mself\u001b[39m\u001b[38;5;241m.\u001b[39moptions\u001b[38;5;241m.\u001b[39mget(\u001b[38;5;124m\"\u001b[39m\u001b[38;5;124mstorage_options\u001b[39m\u001b[38;5;124m\"\u001b[39m, \u001b[38;5;28;01mNone\u001b[39;00m),\n\u001b[0;32m   1670\u001b[0m )\n\u001b[0;32m   1671\u001b[0m \u001b[38;5;28;01massert\u001b[39;00m \u001b[38;5;28mself\u001b[39m\u001b[38;5;241m.\u001b[39mhandles \u001b[38;5;129;01mis\u001b[39;00m \u001b[38;5;129;01mnot\u001b[39;00m \u001b[38;5;28;01mNone\u001b[39;00m\n\u001b[0;32m   1672\u001b[0m f \u001b[38;5;241m=\u001b[39m \u001b[38;5;28mself\u001b[39m\u001b[38;5;241m.\u001b[39mhandles\u001b[38;5;241m.\u001b[39mhandle\n",
      "File \u001b[1;32mC:\\ProgramData\\anaconda3\\Lib\\site-packages\\pandas\\io\\common.py:859\u001b[0m, in \u001b[0;36mget_handle\u001b[1;34m(path_or_buf, mode, encoding, compression, memory_map, is_text, errors, storage_options)\u001b[0m\n\u001b[0;32m    854\u001b[0m \u001b[38;5;28;01melif\u001b[39;00m \u001b[38;5;28misinstance\u001b[39m(handle, \u001b[38;5;28mstr\u001b[39m):\n\u001b[0;32m    855\u001b[0m     \u001b[38;5;66;03m# Check whether the filename is to be opened in binary mode.\u001b[39;00m\n\u001b[0;32m    856\u001b[0m     \u001b[38;5;66;03m# Binary mode does not support 'encoding' and 'newline'.\u001b[39;00m\n\u001b[0;32m    857\u001b[0m     \u001b[38;5;28;01mif\u001b[39;00m ioargs\u001b[38;5;241m.\u001b[39mencoding \u001b[38;5;129;01mand\u001b[39;00m \u001b[38;5;124m\"\u001b[39m\u001b[38;5;124mb\u001b[39m\u001b[38;5;124m\"\u001b[39m \u001b[38;5;129;01mnot\u001b[39;00m \u001b[38;5;129;01min\u001b[39;00m ioargs\u001b[38;5;241m.\u001b[39mmode:\n\u001b[0;32m    858\u001b[0m         \u001b[38;5;66;03m# Encoding\u001b[39;00m\n\u001b[1;32m--> 859\u001b[0m         handle \u001b[38;5;241m=\u001b[39m \u001b[38;5;28mopen\u001b[39m(\n\u001b[0;32m    860\u001b[0m             handle,\n\u001b[0;32m    861\u001b[0m             ioargs\u001b[38;5;241m.\u001b[39mmode,\n\u001b[0;32m    862\u001b[0m             encoding\u001b[38;5;241m=\u001b[39mioargs\u001b[38;5;241m.\u001b[39mencoding,\n\u001b[0;32m    863\u001b[0m             errors\u001b[38;5;241m=\u001b[39merrors,\n\u001b[0;32m    864\u001b[0m             newline\u001b[38;5;241m=\u001b[39m\u001b[38;5;124m\"\u001b[39m\u001b[38;5;124m\"\u001b[39m,\n\u001b[0;32m    865\u001b[0m         )\n\u001b[0;32m    866\u001b[0m     \u001b[38;5;28;01melse\u001b[39;00m:\n\u001b[0;32m    867\u001b[0m         \u001b[38;5;66;03m# Binary mode\u001b[39;00m\n\u001b[0;32m    868\u001b[0m         handle \u001b[38;5;241m=\u001b[39m \u001b[38;5;28mopen\u001b[39m(handle, ioargs\u001b[38;5;241m.\u001b[39mmode)\n",
      "\u001b[1;31mFileNotFoundError\u001b[0m: [Errno 2] No such file or directory: '/opt/airflow/dags/scripts/dataset/Weather_Data.csv'"
     ]
    }
   ],
   "source": [
    "import os\n",
    "\n",
    "import requests\n",
    "import pandas as pd\n",
    "from datetime import datetime\n",
    "#7c0f631168d840e542618054bb96059e\n",
    "api_key = '2a258b2fa442fb8d6f8be3014c88c57a'\n",
    "endpoint = 'https://api.openweathermap.org/data/2.5/forecast'\n",
    "\n",
    "existing_data = pd.read_csv('/opt/airflow/dags/scripts/dataset/Weather_Data.csv')\n",
    "existing_data['Date'] = pd.to_datetime(existing_data['Date'], errors='coerce')\n",
    "\n",
    "cities = [\n",
    "        \"Tokyo\", \"Mexico\", \"Séoul\", \"Jakarta\", \"New Delhi\", \"Le Caire\", \"Moscou\", \"Buenos Aires\",\n",
    "        \"Manille\", \"Londres\", \"Dhâkâ\", \"Paris\", \"Pékin\", \"Bangkok\", \"Lima\", \"Bogotá\", \"Téhéran\",\n",
    "        \"Kinshasa\", \"Santiago\", \"Madrid\", \"Naypyidaw\", \"Damas\", \"Singapour\", \"Ankara\", \"Luanda\",\n",
    "        \"Bagdad\", \"Riyad\", \"Caracas\", \"Athènes\", \"Berlin\", \"Accra\", \"Hanoï\", \"Kiev\", \"Rome\",\n",
    "        \"Addis-Abeba\", \"Guatemala\", \"Pyongyang\", \"Tachkent\", \"Saint-Domingue\", \"Brasilia\",\n",
    "        \"Nairobi\", \"San José\", \"Tunis\", \"Alger\", \"Bucarest\", \"Budapest\", \"Conakry\", \"La Havane\",\n",
    "        \"Port-au-Prince\", \"Dakar\", \"Amman\", \"Lisbonne\", \"Stockholm\", \"Kaboul\", \"Bakou\",\n",
    "        \"San Salvador\", \"Minsk\", \"Varsovie\", \"Vienne\", \"Astana\", \"Harare\", \"Katmandou\",\n",
    "        \"Khartoum\", \"Montevideo\", \"Quito\", \"Rabat\", \"Tananarive\", \"Colombo\", \"Kuala Lumpur\",\n",
    "        \"Erevan\", \"Tripoli\", \"Bruxelles\", \"Phnom Penh\", \"Sofia\", \"Belgrade\", \"Mogadiscio\",\n",
    "        \"Prague\", \"Tegucigalpa\", \"Yaoundé\", \"Maputo\", \"Tbilissi\", \"Pretoria\", \"Kampala\",\n",
    "        \"Ottawa\", \"Abou Dabi\", \"Bamako\", \"Beyrouth\", \"Lusaka\", \"Managua\", \"Ndjamena\",\n",
    "        \"Ouagadougou\", \"Sanaa\", \"Mascate\", \"Lomé\", \"Panamá\", \"Brazzaville\", \"Islamabad\",\n",
    "        \"Kigali\", \"Zagreb\", \"Jerusalem\", \"Monrovia\", \"Rīga\", \"Amsterdam\", \"Niamey\", \"Tirana\",\n",
    "        \"Oulan-Bator\", \"Bangui\", \"Libreville\", \"Chişinău\", \"Vientiane\", \"Kingston\", \"Bichkek\",\n",
    "        \"Achgabat\", \"Skopje\", \"Washington\", \"Helsinki\", \"Nouakchott\", \"Vilnius\", \"Freetown\",\n",
    "        \"Asunción\", \"Oslo\", \"Douchanbé\", \"Copenhague\", \"Dublin\", \"Asmara\", \"Bratislava\",\n",
    "        \"Koweït\", \"Lilongwe\", \"Tallinn\", \"Sarajevo\", \"Djibouti\", \"Doha\", \"Wellington\",\n",
    "        \"Canberra\", \"Port Moresby\", \"Bujumbura\", \"Port-d'Espagne\", \"Porto-Novo\",\n",
    "        \"Sucre (Bolivie)\", \"Bissau\", \"Ljubljana\", \"Georgetown\", \"Paramaribo\", \"Windhoek\",\n",
    "        \"Nassau\", \"Nicosie\", \"Dodoma\", \"Gaborone\", \"Maseru\", \"Suva\", \"Manama\", \"Port-Louis\",\n",
    "        \"Podgorica\", \"Berne\", \"Reykjavík\", \"Yamoussoukro\", \"Praia\", \"Abuja\",\n",
    "        \"Bandar Seri Begawan\", \"Luxembourg\", \"Malé\", \"Castries\", \"Dili\", \"Mbabane\",\n",
    "        \"Thimphou\", \"Malabo\", \"São Tomé\", \"Banjul\", \"Apia\", \"Nuku'alofa\", \"Saint-Georges\",\n",
    "        \"Monaco\", \"Honiara\", \"Moroni\", \"Port-Vila\", \"Saint John's\", \"Tarawa\", \"Victoria\",\n",
    "        \"Delap-Uliga-Darrit\", \"Andorre-la-Vieille\", \"Kingstown\", \"Roseau\", \"Basseterre\",\n",
    "        \"Palikir\", \"Belmopan\", \"La Valette\", \"Bridgetown\", \"Vaduz\", \"Funafuti\", \"Saint-Marin\",\n",
    "        \"Cité du Vatican\", \"Melekeok\"\n",
    "    ]\n",
    "\n",
    "new_data_list = []\n",
    "\n",
    "for city in cities:\n",
    "    url = f'{endpoint}?q={city}&APPID={api_key}'\n",
    "    response = requests.get(url)\n",
    "\n",
    "    if response.status_code == 200:\n",
    "            weather_data = response.json()\n",
    "\n",
    "            if 'list' in weather_data:\n",
    "                city_forecast = weather_data['list']\n",
    "\n",
    "                for forecast in city_forecast:\n",
    "                    timestamp = forecast['dt']\n",
    "                    date = datetime.utcfromtimestamp(timestamp).strftime('%Y-%m-%d %H:%M:%S')\n",
    "\n",
    "                    forecast_date = pd.to_datetime(date)\n",
    "\n",
    "                    if forecast_date > existing_data['Date'].max():\n",
    "                        city_info = {\n",
    "                            'City': city,\n",
    "                            'Date': date,\n",
    "                            'Temperature': forecast['main']['temp'],\n",
    "                            'Temp_Min': forecast['main']['temp_min'],\n",
    "                            'Temp_Max': forecast['main']['temp_max'],\n",
    "                            'Pressure': forecast['main']['pressure'],\n",
    "                            'Sea_Level': forecast['main']['sea_level'] if 'sea_level' in forecast['main'] else None,\n",
    "                            'Humidity': forecast['main']['humidity'],\n",
    "                            'Description': forecast['weather'][0]['main'],\n",
    "                            'Wind Speed': forecast['wind']['speed'],\n",
    "                            'Country': weather_data['city']['country'],\n",
    "                            'Lon': weather_data['city']['coord']['lon'],\n",
    "                            'Lat': weather_data['city']['coord']['lat'],\n",
    "                        }\n",
    "                        new_data_list.append(city_info)\n",
    "            else:\n",
    "                print(f\"No forecast data for {city}\")\n",
    "    else:\n",
    "        print(f\"Error {city}: {response.status_code}\")\n",
    "\n",
    "    new_data_df = pd.DataFrame(new_data_list)\n",
    "\n",
    "    if not new_data_df.empty:\n",
    "        new_data_df.to_csv(os.path.abspath('/opt/airflow/dags/scripts/dataset/Weather_Data.csv'), index=False, mode='a', header=False)\n",
    "    else:\n",
    "        print(\"No new data to add.\")"
   ]
  },
  {
   "cell_type": "code",
   "execution_count": 1,
   "id": "34c3a8ce",
   "metadata": {},
   "outputs": [
    {
     "name": "stdout",
     "output_type": "stream",
     "text": [
      "q\n"
     ]
    }
   ],
   "source": [
    "print(\"q\")"
   ]
  },
  {
   "cell_type": "code",
   "execution_count": 2,
   "id": "16b1d727",
   "metadata": {},
   "outputs": [
    {
     "name": "stdout",
     "output_type": "stream",
     "text": [
      "q\n"
     ]
    }
   ],
   "source": [
    "print(\"q\")"
   ]
  },
  {
   "cell_type": "code",
   "execution_count": 4,
   "id": "e2afdd85",
   "metadata": {},
   "outputs": [
    {
     "name": "stdout",
     "output_type": "stream",
     "text": [
      "q\n"
     ]
    }
   ],
   "source": [
    "plt.figure(figsize=(14,8))\n",
    "sns.pairplot(data.drop('Date',axis=1),hue='Description',palette=\"YlOrBr\")\n",
    "plt.show()"
   ]
  },
  {
   "cell_type": "code",
   "execution_count": null,
   "id": "c9f81245",
   "metadata": {},
   "outputs": [],
   "source": []
  }
 ],
 "metadata": {
  "kernelspec": {
   "display_name": "Python 3 (ipykernel)",
   "language": "python",
   "name": "python3"
  },
  "language_info": {
   "codemirror_mode": {
    "name": "ipython",
    "version": 3
   },
   "file_extension": ".py",
   "mimetype": "text/x-python",
   "name": "python",
   "nbconvert_exporter": "python",
   "pygments_lexer": "ipython3",
   "version": "3.11.5"
  }
 },
 "nbformat": 4,
 "nbformat_minor": 5
}
